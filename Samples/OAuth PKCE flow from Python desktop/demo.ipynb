{
 "cells": [
  {
   "cell_type": "code",
   "execution_count": null,
   "metadata": {},
   "outputs": [],
   "source": [
    "from terevintosoftware.pkce_client import PkceClient, PkceLoginConfig\n",
    "\n",
    "config = PkceLoginConfig(\n",
    "    authorization_uri=\"https://localhost:44300/connect/authorize\",\n",
    "    token_uri=\"https://localhost:44300/connect/token\",\n",
    "    scopes=[ \"openid\", \"profile\", \"api\" ],\n",
    "    client_id=\"python-nb\",\n",
    "    internal_port=8888,\n",
    "    add_random_state=True,\n",
    "    random_state_length=32,\n",
    "    verify_authorization_server_https=False\n",
    ")\n",
    "\n",
    "login_client = PkceClient(config)\n",
    "pkce_token = login_client.login()\n",
    "headers = { \"Authorization\": \"Bearer \" + str(pkce_token.access_token) }"
   ]
  },
  {
   "cell_type": "code",
   "execution_count": null,
   "metadata": {},
   "outputs": [],
   "source": [
    "import json\n",
    "import requests\n",
    "\n",
    "response = requests.get(\"https://localhost:44301/weatherforecast\", headers=headers, verify=False)\n",
    "\n",
    "print(json.dumps(response.json(), indent=4))"
   ]
  }
 ],
 "metadata": {
  "kernelspec": {
   "display_name": "Python 3.10.5 ('pkce': venv)",
   "language": "python",
   "name": "python3"
  },
  "language_info": {
   "codemirror_mode": {
    "name": "ipython",
    "version": 3
   },
   "file_extension": ".py",
   "mimetype": "text/x-python",
   "name": "python",
   "nbconvert_exporter": "python",
   "pygments_lexer": "ipython3",
   "version": "3.10.5"
  },
  "orig_nbformat": 4,
  "vscode": {
   "interpreter": {
    "hash": "855e32eacf48311c687d588eb94314a5fcfccc9ac28339a7a35c488bcb04b038"
   }
  }
 },
 "nbformat": 4,
 "nbformat_minor": 2
}
